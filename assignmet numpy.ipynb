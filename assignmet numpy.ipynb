{
 "cells": [
  {
   "cell_type": "code",
   "execution_count": 2,
   "id": "0029ef05-c0b8-40db-bacc-2916fc9f47f5",
   "metadata": {},
   "outputs": [],
   "source": [
    "import numpy as np"
   ]
  },
  {
   "cell_type": "code",
   "execution_count": 4,
   "id": "0dd6a88f-99b0-4caf-ab84-58ad713ac594",
   "metadata": {},
   "outputs": [
    {
     "data": {
      "text/plain": [
       "array([[ 5, 13,  7],\n",
       "       [18,  9,  5],\n",
       "       [ 7,  5, 13]])"
      ]
     },
     "execution_count": 4,
     "metadata": {},
     "output_type": "execute_result"
    }
   ],
   "source": [
    "#Q1\n",
    "arr = np.random.randint(1, 21, size=(3, 3))\n",
    "arr"
   ]
  },
  {
   "cell_type": "code",
   "execution_count": 6,
   "id": "823a1a29-8e87-475c-ad75-555203b7c032",
   "metadata": {},
   "outputs": [
    {
     "data": {
      "text/plain": [
       "array([[19,  4,  1, 13, 11],\n",
       "       [20,  3, 19, 15, 13],\n",
       "       [ 9, 20,  6,  2,  2],\n",
       "       [17,  1,  9, 14, 16],\n",
       "       [ 9,  9, 10, 10,  9]])"
      ]
     },
     "execution_count": 6,
     "metadata": {},
     "output_type": "execute_result"
    }
   ],
   "source": [
    "#Q2\n",
    "arr2 = np.random.randint(1, 21, size=(5, 5))\n",
    "arr2"
   ]
  },
  {
   "cell_type": "code",
   "execution_count": 8,
   "id": "92aeb834-f145-44d6-9e8e-561c749b02a7",
   "metadata": {},
   "outputs": [
    {
     "data": {
      "text/plain": [
       "1"
      ]
     },
     "execution_count": 8,
     "metadata": {},
     "output_type": "execute_result"
    }
   ],
   "source": [
    "arr2.min()"
   ]
  },
  {
   "cell_type": "code",
   "execution_count": 10,
   "id": "0784fe56-e7d4-4131-b493-cec39e444cb2",
   "metadata": {},
   "outputs": [
    {
     "data": {
      "text/plain": [
       "20"
      ]
     },
     "execution_count": 10,
     "metadata": {},
     "output_type": "execute_result"
    }
   ],
   "source": [
    "arr2.max()"
   ]
  },
  {
   "cell_type": "code",
   "execution_count": 42,
   "id": "cb853a80-203f-4572-9a22-01dc234de75e",
   "metadata": {},
   "outputs": [
    {
     "data": {
      "text/plain": [
       "array([ 1,  1,  2,  2,  3,  4,  5,  6,  9, 10])"
      ]
     },
     "execution_count": 42,
     "metadata": {},
     "output_type": "execute_result"
    }
   ],
   "source": [
    "#Q3\n",
    "vector1 = np.random.randint(10)\n",
    "vector"
   ]
  },
  {
   "cell_type": "code",
   "execution_count": 48,
   "id": "647eed1f-a106-4bab-88c3-eaa8d1d4582f",
   "metadata": {},
   "outputs": [
    {
     "data": {
      "text/plain": [
       "array([ 1,  1,  2,  2,  3,  4,  5,  6,  9, 10])"
      ]
     },
     "execution_count": 48,
     "metadata": {},
     "output_type": "execute_result"
    }
   ],
   "source": [
    "np.sort(vector)"
   ]
  },
  {
   "cell_type": "code",
   "execution_count": 56,
   "id": "b6cbf11c-c66f-4ea5-9394-0b824247524b",
   "metadata": {},
   "outputs": [
    {
     "data": {
      "text/plain": [
       "array([[ 3,  5,  7],\n",
       "       [ 5,  7,  8],\n",
       "       [99, 88, 77],\n",
       "       [55, 44, 70]])"
      ]
     },
     "execution_count": 56,
     "metadata": {},
     "output_type": "execute_result"
    }
   ],
   "source": [
    "#Q4\n",
    "arr3=np.array([\n",
    "    (3,5,7),(5,7,8),\n",
    "    (99,88,77),(55,44,70)\n",
    "])\n",
    "arr3"
   ]
  },
  {
   "cell_type": "code",
   "execution_count": 62,
   "id": "d1eea78f-56e6-4f02-a3b7-5de114f23548",
   "metadata": {},
   "outputs": [
    {
     "data": {
      "text/plain": [
       "6"
      ]
     },
     "execution_count": 62,
     "metadata": {},
     "output_type": "execute_result"
    }
   ],
   "source": [
    "arr3.argmax()"
   ]
  },
  {
   "cell_type": "code",
   "execution_count": 64,
   "id": "213ea8f4-66d7-4add-98ff-66cb360426be",
   "metadata": {},
   "outputs": [
    {
     "data": {
      "text/plain": [
       "array([[2, 4, 5],\n",
       "       [5, 7, 8]])"
      ]
     },
     "execution_count": 64,
     "metadata": {},
     "output_type": "execute_result"
    }
   ],
   "source": [
    "#Q5\n",
    "arr= np.array([(2,4,5) ,(5,7,8)])\n",
    "arr"
   ]
  },
  {
   "cell_type": "code",
   "execution_count": 68,
   "id": "c8aa68fa-914e-49a2-bde3-bc8b01c02b04",
   "metadata": {},
   "outputs": [
    {
     "data": {
      "text/plain": [
       "array([[0, 0, 5],\n",
       "       [5, 7, 0]])"
      ]
     },
     "execution_count": 68,
     "metadata": {},
     "output_type": "execute_result"
    }
   ],
   "source": [
    "arr[arr% 2 == 0] = 0\n",
    "arr"
   ]
  },
  {
   "cell_type": "code",
   "execution_count": 72,
   "id": "07b2388f-9c5e-4ce1-b81a-4c1da7df3d61",
   "metadata": {},
   "outputs": [
    {
     "data": {
      "text/plain": [
       "array([3, 7, 5])"
      ]
     },
     "execution_count": 72,
     "metadata": {},
     "output_type": "execute_result"
    }
   ],
   "source": [
    "#Q6\n",
    "arr1=np.array([3,7,5])\n",
    "arr1"
   ]
  },
  {
   "cell_type": "code",
   "execution_count": 74,
   "id": "e8b7eade-092b-4696-86ef-d5cd7b6f227a",
   "metadata": {},
   "outputs": [
    {
     "data": {
      "text/plain": [
       "array([1.73205081, 2.64575131, 2.23606798])"
      ]
     },
     "execution_count": 74,
     "metadata": {},
     "output_type": "execute_result"
    }
   ],
   "source": [
    "np.sqrt(arr1)"
   ]
  },
  {
   "cell_type": "code",
   "execution_count": 102,
   "id": "6ad7cad3-cd7f-4a95-8d21-e2bf0558cd33",
   "metadata": {},
   "outputs": [
    {
     "data": {
      "text/plain": [
       "<function ndarray.mean>"
      ]
     },
     "execution_count": 102,
     "metadata": {},
     "output_type": "execute_result"
    }
   ],
   "source": [
    "#q7\n",
    "arr= np.random.rand(3,3)\n",
    "arr.mean(axis=1, keepdims=True)\n",
    "arr.mean"
   ]
  },
  {
   "cell_type": "code",
   "execution_count": 104,
   "id": "4135048e-c4b7-4c62-94a8-8b03fc9f073e",
   "metadata": {},
   "outputs": [
    {
     "data": {
      "text/plain": [
       "array([ 1,  3,  5,  7,  9, 11, 13, 15, 17, 19, 21, 23, 25, 27, 29, 31, 33,\n",
       "       35, 37, 39])"
      ]
     },
     "execution_count": 104,
     "metadata": {},
     "output_type": "execute_result"
    }
   ],
   "source": [
    "#q8\n",
    "arr=np.array([1,3,5,7,9,11,13,15,17,19,21,23,25,27,29,31,33,35,37,39])\n",
    "arr"
   ]
  },
  {
   "cell_type": "code",
   "execution_count": 110,
   "id": "bde713f7-de3d-4340-a7d8-71d5ba0831ad",
   "metadata": {},
   "outputs": [
    {
     "data": {
      "text/plain": [
       "array([0.80327106, 0.71476348, 0.69387018, 0.94318596, 0.86170161])"
      ]
     },
     "execution_count": 110,
     "metadata": {},
     "output_type": "execute_result"
    }
   ],
   "source": [
    "#q9\n",
    "array_5x5 = np.random.rand(5, 5)\n",
    "np.sort(array_5x5, axis=0)[-2, :]"
   ]
  },
  {
   "cell_type": "code",
   "execution_count": 114,
   "id": "f7b0fea9-b029-411d-8c71-148499cfd17f",
   "metadata": {},
   "outputs": [
    {
     "data": {
      "text/plain": [
       "array([1.60495279, 2.13245578, 1.53579764, 1.28961239])"
      ]
     },
     "execution_count": 114,
     "metadata": {},
     "output_type": "execute_result"
    }
   ],
   "source": [
    "#Q10\n",
    "array_4x4 = np.random.rand(4, 4)\n",
    "np.sum(array_4x4, axis=1)"
   ]
  },
  {
   "cell_type": "code",
   "execution_count": null,
   "id": "ae00811c-6798-4ab8-8253-f7a7374fcd43",
   "metadata": {},
   "outputs": [],
   "source": []
  }
 ],
 "metadata": {
  "kernelspec": {
   "display_name": "Python 3 (ipykernel)",
   "language": "python",
   "name": "python3"
  },
  "language_info": {
   "codemirror_mode": {
    "name": "ipython",
    "version": 3
   },
   "file_extension": ".py",
   "mimetype": "text/x-python",
   "name": "python",
   "nbconvert_exporter": "python",
   "pygments_lexer": "ipython3",
   "version": "3.12.4"
  }
 },
 "nbformat": 4,
 "nbformat_minor": 5
}
